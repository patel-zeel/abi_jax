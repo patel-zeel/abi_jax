{
 "cells": [
  {
   "cell_type": "code",
   "execution_count": 55,
   "id": "32259b5f",
   "metadata": {},
   "outputs": [],
   "source": [
    "######## Avoid TypeCheck Warning #########\n",
    "import logging\n",
    "\n",
    "logger = logging.getLogger()\n",
    "\n",
    "\n",
    "class CheckTypesFilter(logging.Filter):\n",
    "    def filter(self, record):\n",
    "        return \"check_types\" not in record.getMessage()\n",
    "\n",
    "\n",
    "logger.addFilter(CheckTypesFilter())\n",
    "############################################\n",
    "\n",
    "import jax\n",
    "# from jax.config import config\n",
    "# config.update(\"jax_enable_x64\", True)\n",
    "import jax.numpy as jnp\n",
    "import optax\n",
    "import tensorflow_probability.substrates.jax as tfp\n",
    "\n",
    "tfd = tfp.distributions\n",
    "tfb = tfp.bijectors\n",
    "\n",
    "import matplotlib.pyplot as plt\n",
    "import seaborn as sns"
   ]
  },
  {
   "cell_type": "code",
   "execution_count": 73,
   "id": "3e215ec6",
   "metadata": {},
   "outputs": [
    {
     "data": {
      "text/plain": [
       "((100, 1), (100,))"
      ]
     },
     "execution_count": 73,
     "metadata": {},
     "output_type": "execute_result"
    },
    {
     "data": {
      "image/png": "[encoded data removed]",
      "text/plain": [
       "<Figure size 432x288 with 1 Axes>"
      ]
     },
     "metadata": {
      "needs_background": "light"
     },
     "output_type": "display_data"
    }
   ],
   "source": [
    "N = 100\n",
    "# seed = jax.random.PRNGKey(0)\n",
    "# X = jax.random.uniform(seed, (N,), minval=0, maxval=0.5)\n",
    "# X_test = jnp.linspace(-0.5, 1, N*2).reshape(-1,1)\n",
    "# # noise = jax.random.normal(jax.random.PRNGKey(123), (N,1))*0.2\n",
    "# # y = X**3 - X**2 + noise\n",
    "# # y = 3*X + 2 + noise\n",
    "# # y = jnp.sin(2*X) + noise\n",
    "# epsilons = jax.random.normal(seed, shape=(3,1)) * 0.02\n",
    "# y = X + 0.3 * jnp.sin(2 * jnp.pi * (X + epsilons[0])) + 0.3 * jnp.sin(4 * jnp.pi * (X + epsilons[1])) + epsilons[2]\n",
    "# y = y.ravel()\n",
    "# aux = {'X': X}\n",
    "\n",
    "\n",
    "def load_dataset():\n",
    "    # Generate dataset and grid\n",
    "    key, subkey = jax.random.split(jax.random.PRNGKey(1))\n",
    "    # X = jax.random.uniform(key, shape=(500, 1), minval=-2, maxval=2)\n",
    "    # x_grid = jnp.linspace(-2, -2, 500).reshape(-1, 1)\n",
    "    X = jax.random.uniform(key, shape=(100, 1), minval=0.0, maxval=0.5)\n",
    "#     X = jnp.linspace(0, 0.5, N).reshape(-1, 1)\n",
    "    x_grid = jnp.linspace(0, 0.5, 100).reshape(-1, 1)\n",
    "    # X = jax.random.uniform(key, shape=(100, 1), minval=-1.5, maxval=1.5)\n",
    "    # x_grid = jnp.linspace(-2, -2, 100).reshape(-1, 1)\n",
    "    # Define function\n",
    "    def target_toy(key, x):\n",
    "        epsilons = jax.random.normal(key, shape=(3,)) * 0.02\n",
    "        return (\n",
    "            x + 0.3 * jnp.sin(2 * jnp.pi * (x + epsilons[0])) + 0.3 * jnp.sin(4 * jnp.pi * (x + epsilons[1])) + epsilons[2]\n",
    "        )\n",
    "        # return (\n",
    "        #     x**3 -x**2 + 3*epsilons[2]\n",
    "        #     #x**3-x**2 + 0.3 * jnp.sin(2 * jnp.pi * (x + epsilons[0])) + 0.3 * jnp.sin(4 * jnp.pi * (x + epsilons[1])) + epsilons[2]\n",
    "        # )\n",
    "        # return (\n",
    "        #     jnp.sin(2 * (x)) + 0.2*epsilons[2]\n",
    "        # )\n",
    "    # Define vectorized version of function\n",
    "    target_vmap = jax.vmap(target_toy, in_axes=(0, 0), out_axes=0)\n",
    "    # Generate target values\n",
    "    keys = jax.random.split(subkey, X.shape[0])\n",
    "    Y = target_vmap(keys, X)\n",
    "\n",
    "#     noise = jax.random.normal(jax.random.PRNGKey(0), (N,1))*0.2\n",
    "#     Y = jnp.sin(12*X) + noise\n",
    "    idx = jnp.argsort(X.ravel())\n",
    "    return X[idx],Y.ravel()[idx],x_grid\n",
    "\n",
    "X, y, X_test = load_dataset()\n",
    "plt.scatter(X, y);\n",
    "X.shape, y.shape"
   ]
  },
  {
   "cell_type": "code",
   "execution_count": 74,
   "id": "f0243acd",
   "metadata": {},
   "outputs": [],
   "source": [
    "import flax.linen as nn\n",
    "from flax.core.frozen_dict import freeze, unfreeze\n",
    "from jax.flatten_util import ravel_pytree\n",
    "\n",
    "class MLP(nn.Module):\n",
    "    layers: list\n",
    "    \n",
    "    @nn.compact\n",
    "    def __call__(self, x):\n",
    "        for num_features in self.layers[:-1]:\n",
    "            x = nn.relu(nn.Dense(num_features, kernel_init=jax.nn.initializers.lecun_normal())(x))\n",
    "        x = nn.Dense(self.layers[-1], kernel_init=jax.nn.initializers.lecun_normal())(x)\n",
    "        return x.ravel()\n",
    "\n",
    "mlp = MLP([16, 1])"
   ]
  },
  {
   "cell_type": "code",
   "execution_count": 92,
   "id": "0965f22a",
   "metadata": {},
   "outputs": [],
   "source": [
    "params = mlp.init(jax.random.PRNGKey(8), X)\n",
    "params_array, unravel_fn = ravel_pytree(unfreeze(params))\n",
    "prior = tfd.MultivariateNormalDiag(loc=jnp.zeros(len(params_array)), scale_diag=jnp.ones(len(params_array)))\n",
    "approx_posterior = tfd.MultivariateNormalDiag(loc=params_array, scale_diag=-7*jnp.ones(len(params_array)))\n",
    "# seed = jax.random.PRNGKey(1)\n",
    "# chol_cov = tfd.CholeskyLKJ(dimension=len(params_array), concentration=10.0).sample(seed=seed)\n",
    "# approx_posterior = tfd.MultivariateNormalTriL(loc=params_array, scale_tril=0.01*chol_cov)\n",
    "\n",
    "def log_likelihood_fn(approx_posterior, seed):\n",
    "    seeds = jax.random.split(seed, num=1)\n",
    "    def log_likelihood_per_sample(seed):\n",
    "        sample = approx_posterior.sample(seed=seed)\n",
    "        params = freeze(unravel_fn(sample))\n",
    "        mean_y = mlp.apply(params, X)\n",
    "        std_y = jnp.ones_like(mean_y)*0.2\n",
    "        return tfd.MultivariateNormalDiag(loc=mean_y, scale_diag=std_y).log_prob(y)\n",
    "    return jax.vmap(log_likelihood_per_sample)(seeds).mean()\n",
    "\n",
    "def loss_fn(approx_posterior, seed):\n",
    "    post_params, treedef = jax.tree_flatten(approx_posterior)\n",
    "    post_params[1] = jnp.exp(post_params[1])\n",
    "    approx_posterior = jax.tree_unflatten(treedef, post_params)\n",
    "    kld = tfd.kl_divergence(approx_posterior, prior)\n",
    "    log_likelihood = log_likelihood_fn(approx_posterior, seed)\n",
    "    return kld - log_likelihood\n",
    "\n",
    "def loss_fn2(approx_posterior, seed):\n",
    "    post_params, treedef = jax.tree_flatten(approx_posterior)\n",
    "    post_params[1] = jnp.exp(post_params[1])\n",
    "    approx_posterior = jax.tree_unflatten(treedef, post_params)\n",
    "    \n",
    "    seeds = jax.random.split(seed, num=50)\n",
    "    def loss_per_sample(seed):\n",
    "        sample = approx_posterior.sample(seed=seed)\n",
    "        log_prior = prior.log_prob(sample)\n",
    "        log_posterior = approx_posterior.log_prob(sample)\n",
    "        params = freeze(unravel_fn(sample))\n",
    "        mean_y = mlp.apply(params, X)\n",
    "        std_y = jnp.ones_like(mean_y)\n",
    "        log_likelihood = tfd.MultivariateNormalDiag(loc=mean_y, scale_diag=std_y).log_prob(y)\n",
    "        return - log_likelihood - log_prior + log_posterior\n",
    "    return jax.vmap(loss_per_sample)(seeds).mean()\n",
    "\n",
    "\n",
    "value_and_grad_fn = jax.jit(jax.value_and_grad(loss_fn2))\n",
    "tx = optax.adam(learning_rate=0.01)\n",
    "\n",
    "state = tx.init(approx_posterior)\n",
    "\n",
    "@jax.jit\n",
    "def one_step(params, seed):\n",
    "    approx_posterior, state = params\n",
    "    loss, grads = value_and_grad_fn(approx_posterior, seed)\n",
    "    updates, state = tx.update(grads, state)\n",
    "    approx_posterior = optax.apply_updates(approx_posterior, updates)\n",
    "    return (approx_posterior, state), loss\n",
    "\n",
    "seed = jax.random.PRNGKey(123456)\n",
    "seeds = jax.random.split(seed, num=2000)\n",
    "(approx_posterior, state), losses = jax.lax.scan(one_step, (approx_posterior, state), seeds)\n",
    "\n",
    "# losses = []\n",
    "# for i in range(1000):\n",
    "#     seed = jax.random.PRNGKey(i+123)\n",
    "#     loss, grads = value_and_grad_fn(approx_posterior, seed)\n",
    "#     losses.append(loss)\n",
    "#     updates, state = tx.update(grads, state)\n",
    "#     approx_posterior = optax.apply_updates(approx_posterior, updates)"
   ]
  },
  {
   "cell_type": "code",
   "execution_count": 93,
   "id": "5b00be0d",
   "metadata": {},
   "outputs": [
    {
     "data": {
      "image/png": "[encoded data removed]",
      "text/plain": [
       "<Figure size 432x288 with 1 Axes>"
      ]
     },
     "metadata": {
      "needs_background": "light"
     },
     "output_type": "display_data"
    }
   ],
   "source": [
    "plt.plot(losses);\n",
    "# losses"
   ]
  },
  {
   "cell_type": "code",
   "execution_count": 94,
   "id": "b56ccb6f",
   "metadata": {},
   "outputs": [],
   "source": [
    "X_test = jnp.linspace(-0.5, 1, 200).reshape(-1,1)\n",
    "\n",
    "# if isinstance(approx_posterior, tfd.MultivariateNormalDiag):\n",
    "post_params, treedef = jax.tree_flatten(approx_posterior)\n",
    "post_params[1] = jnp.exp(post_params[1])\n",
    "posterior = jax.tree_unflatten(treedef, post_params)\n",
    "# else:\n",
    "#     posterior = approx_posterior\n",
    "\n",
    "def predict_y(seed):\n",
    "    weights = posterior.sample(seed=seed)\n",
    "#     print(weights)\n",
    "    weights = freeze(unravel_fn(weights))\n",
    "#     print(weights)\n",
    "    return mlp.apply(weights, X_test)\n",
    "\n",
    "Np = 1000\n",
    "seed = jax.random.PRNGKey(10)\n",
    "seeds = jax.random.split(seed, Np)\n",
    "samples = jax.vmap(predict_y)(seeds)"
   ]
  },
  {
   "cell_type": "code",
   "execution_count": 95,
   "id": "0a0cd511",
   "metadata": {
    "scrolled": true
   },
   "outputs": [
    {
     "data": {
      "text/plain": [
       "(-0.5, 0.75)"
      ]
     },
     "execution_count": 95,
     "metadata": {},
     "output_type": "execute_result"
    },
    {
     "data": {
      "image/png": "[encoded data removed]",
      "text/plain": [
       "<Figure size 432x288 with 1 Axes>"
      ]
     },
     "metadata": {
      "needs_background": "light"
     },
     "output_type": "display_data"
    }
   ],
   "source": [
    "# %matplotlib notebook\n",
    "sample_mean = samples.mean(axis=0)\n",
    "sample_std = samples.std(axis=0)\n",
    "\n",
    "lower =  sample_mean - 2*sample_std\n",
    "upper =  sample_mean + 2*sample_std\n",
    "\n",
    "plt.scatter(X, y)\n",
    "plt.plot(X_test, sample_mean);\n",
    "plt.fill_between(X_test.ravel(), lower-0.1, upper+0.1, alpha=0.3);\n",
    "plt.ylim(-0.5,0.75)"
   ]
  }
 ],
 "metadata": {
  "kernelspec": {
   "display_name": "Python [conda env:ajax]",
   "language": "python",
   "name": "conda-env-ajax-py"
  },
  "language_info": {
   "codemirror_mode": {
    "name": "ipython",
    "version": 3
   },
   "file_extension": ".py",
   "mimetype": "text/x-python",
   "name": "python",
   "nbconvert_exporter": "python",
   "pygments_lexer": "ipython3",
   "version": "3.9.12"
  }
 },
 "nbformat": 4,
 "nbformat_minor": 5
}
