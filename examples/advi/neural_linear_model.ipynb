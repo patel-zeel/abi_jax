{
 "cells": [
  {
   "cell_type": "code",
   "execution_count": 32,
   "id": "32259b5f",
   "metadata": {},
   "outputs": [],
   "source": [
    "######## Avoid TypeCheck Warning #########\n",
    "import logging\n",
    "\n",
    "logger = logging.getLogger()\n",
    "\n",
    "\n",
    "class CheckTypesFilter(logging.Filter):\n",
    "    def filter(self, record):\n",
    "        return \"check_types\" not in record.getMessage()\n",
    "\n",
    "\n",
    "logger.addFilter(CheckTypesFilter())\n",
    "############################################\n",
    "\n",
    "\n",
    "import flax.linen as nn\n",
    "from flax.core.frozen_dict import freeze, unfreeze\n",
    "\n",
    "import jax\n",
    "from jax.flatten_util import ravel_pytree\n",
    "import jax.numpy as jnp\n",
    "import optax\n",
    "import tensorflow_probability.substrates.jax as tfp\n",
    "\n",
    "tfd = tfp.distributions\n",
    "tfb = tfp.bijectors\n",
    "\n",
    "import matplotlib.pyplot as plt\n",
    "import seaborn as sns\n",
    "\n",
    "from ajax.advi import ADVI\n",
    "from ajax.base import transform_dist_params\n",
    "from ajax.utils import train, initialize_params\n",
    "\n",
    "from functools import partial\n",
    "import regdata as rd\n",
    "\n",
    "init = 1"
   ]
  },
  {
   "cell_type": "markdown",
   "id": "242e1a46",
   "metadata": {},
   "source": [
    "## Prepare dataset"
   ]
  },
  {
   "cell_type": "code",
   "execution_count": 33,
   "id": "3e215ec6",
   "metadata": {},
   "outputs": [],
   "source": [
    "def load_multinoise(seed):\n",
    "    N = 100\n",
    "    key, subkey = jax.random.split(seed)\n",
    "    X = jax.random.uniform(key, shape=(100, 1), minval=0.0, maxval=0.5).reshape(-1, 1)\n",
    "    X_test = jax.random.uniform(key, shape=(200, 1), minval=-0.5, maxval=1.0).reshape(-1, 1)\n",
    "    def f(seed, x):\n",
    "        epsilons = jax.random.normal(seed, shape=(3,)) * 0.02\n",
    "        return x + 0.3 * jnp.sin(2 * jnp.pi * (x + epsilons[0])) + 0.3 * jnp.sin(4 * jnp.pi * (x + epsilons[1])) + epsilons[2]\n",
    "    target_vmap = jax.vmap(f)\n",
    "    keys = jax.random.split(subkey, X.shape[0])\n",
    "    y = target_vmap(keys, X)# + jax.random.normal(subkey, shape=(X.shape[0], 1))*0.02\n",
    "    idx = jnp.argsort(X.ravel())\n",
    "    return X[idx], y[idx].ravel(), X_test.sort(axis=0)"
   ]
  },
  {
   "cell_type": "code",
   "execution_count": 50,
   "id": "0d7a760c",
   "metadata": {},
   "outputs": [
    {
     "data": {
      "text/plain": [
       "((100, 1), (100,))"
      ]
     },
     "execution_count": 50,
     "metadata": {},
     "output_type": "execute_result"
    },
    {
     "data": {
      "image/png": "[encoded data removed]",
      "text/plain": [
       "<Figure size 432x288 with 1 Axes>"
      ]
     },
     "metadata": {
      "needs_background": "light"
     },
     "output_type": "display_data"
    }
   ],
   "source": [
    "# seed = jax.random.PRNGKey(init)\n",
    "# X, y, X_test = load_multinoise(seed)\n",
    "X, y, X_test = rd.SineNoisy().get_data()\n",
    "\n",
    "plt.scatter(X, y);\n",
    "X.shape, y.shape"
   ]
  },
  {
   "cell_type": "markdown",
   "id": "69b9b3c5",
   "metadata": {},
   "source": [
    "## Define and initialize NN"
   ]
  },
  {
   "cell_type": "code",
   "execution_count": 51,
   "id": "f0243acd",
   "metadata": {},
   "outputs": [],
   "source": [
    "class MLP(nn.Module):\n",
    "    layers: list\n",
    "    @nn.compact\n",
    "    def __call__(self, x):\n",
    "        for num_features in self.layers:\n",
    "            x = nn.relu(nn.Dense(num_features)(x))\n",
    "        return x\n",
    "\n",
    "class Linear(nn.Module):\n",
    "    @nn.compact\n",
    "    def __call__(self, x):\n",
    "        x = nn.Dense(1)(x)\n",
    "        return x.ravel()\n",
    "\n",
    "mlp = MLP([16])\n",
    "linear = Linear()"
   ]
  },
  {
   "cell_type": "code",
   "execution_count": 52,
   "id": "a6f096db",
   "metadata": {},
   "outputs": [
    {
     "data": {
      "text/plain": [
       "(100,)"
      ]
     },
     "execution_count": 52,
     "metadata": {},
     "output_type": "execute_result"
    }
   ],
   "source": [
    "mlp_out = mlp.apply(mlp.init(seed, X), X)\n",
    "linear_out = linear.apply(linear.init(seed, mlp_out), mlp_out)\n",
    "linear_out.shape"
   ]
  },
  {
   "cell_type": "markdown",
   "id": "8a000c5d",
   "metadata": {},
   "source": [
    "## Initialize NN parameters"
   ]
  },
  {
   "cell_type": "code",
   "execution_count": 53,
   "id": "f7f34d06",
   "metadata": {
    "scrolled": false
   },
   "outputs": [
    {
     "data": {
      "text/plain": [
       "FrozenDict({\n",
       "    params: {\n",
       "        Dense_0: {\n",
       "            kernel: DeviceArray([[ 0.19097038],\n",
       "                         [-0.4089547 ],\n",
       "                         [ 0.31599498],\n",
       "                         [ 0.32825586],\n",
       "                         [ 0.0170537 ],\n",
       "                         [ 0.17950271],\n",
       "                         [-0.0679157 ],\n",
       "                         [ 0.14419238],\n",
       "                         [-0.23855072],\n",
       "                         [-0.29385057],\n",
       "                         [ 0.13103868],\n",
       "                         [-0.40272287],\n",
       "                         [-0.3970038 ],\n",
       "                         [-0.06809779],\n",
       "                         [-0.20322372],\n",
       "                         [-0.03810769]], dtype=float32),\n",
       "            bias: DeviceArray([0.], dtype=float32),\n",
       "        },\n",
       "    },\n",
       "})"
      ]
     },
     "execution_count": 53,
     "metadata": {},
     "output_type": "execute_result"
    }
   ],
   "source": [
    "seed = jax.random.PRNGKey(init+1)\n",
    "frozen_params = linear.init(seed, mlp_out)\n",
    "frozen_params"
   ]
  },
  {
   "cell_type": "markdown",
   "id": "5a358106",
   "metadata": {},
   "source": [
    "We need to unfreeze the parameters to use outside of `flax`."
   ]
  },
  {
   "cell_type": "code",
   "execution_count": 54,
   "id": "497698f6",
   "metadata": {},
   "outputs": [
    {
     "data": {
      "text/plain": [
       "{'params': {'Dense_0': {'bias': DeviceArray([0.], dtype=float32),\n",
       "   'kernel': DeviceArray([[ 0.19097038],\n",
       "                [-0.4089547 ],\n",
       "                [ 0.31599498],\n",
       "                [ 0.32825586],\n",
       "                [ 0.0170537 ],\n",
       "                [ 0.17950271],\n",
       "                [-0.0679157 ],\n",
       "                [ 0.14419238],\n",
       "                [-0.23855072],\n",
       "                [-0.29385057],\n",
       "                [ 0.13103868],\n",
       "                [-0.40272287],\n",
       "                [-0.3970038 ],\n",
       "                [-0.06809779],\n",
       "                [-0.20322372],\n",
       "                [-0.03810769]], dtype=float32)}}}"
      ]
     },
     "execution_count": 54,
     "metadata": {},
     "output_type": "execute_result"
    }
   ],
   "source": [
    "params = unfreeze(frozen_params)\n",
    "params"
   ]
  },
  {
   "cell_type": "markdown",
   "id": "c441ed1a",
   "metadata": {},
   "source": [
    "## Define $\\mathcal{N}(0, 1)$ prior for all NN parameters"
   ]
  },
  {
   "cell_type": "markdown",
   "id": "10195a87",
   "metadata": {},
   "source": [
    "Note that `tfd.Independent` will convert all batch dimensions to event dimensions so that each prior distribution can return a scalar log prob."
   ]
  },
  {
   "cell_type": "code",
   "execution_count": 55,
   "id": "d4d20bbb",
   "metadata": {},
   "outputs": [
    {
     "data": {
      "text/plain": [
       "{'params': {'Dense_0': {'bias': <tfp.distributions.Independent 'IndependentNormal' batch_shape=[] event_shape=[1] dtype=float32>,\n",
       "   'kernel': <tfp.distributions.Independent 'IndependentNormal' batch_shape=[] event_shape=[16, 1] dtype=float32>}}}"
      ]
     },
     "execution_count": 55,
     "metadata": {},
     "output_type": "execute_result"
    }
   ],
   "source": [
    "prior = jax.tree_map(\n",
    "    lambda param: tfd.Independent(\n",
    "        tfd.Normal(loc=jnp.zeros(param.shape), scale=jnp.ones(param.shape)),\n",
    "        reinterpreted_batch_ndims=len(param.shape),\n",
    "    ),\n",
    "    params,\n",
    ")\n",
    "prior"
   ]
  },
  {
   "cell_type": "markdown",
   "id": "c99dc462",
   "metadata": {},
   "source": [
    "No change of variable is needed for this model, thus we set `tfd.Identity()` bijector."
   ]
  },
  {
   "cell_type": "code",
   "execution_count": 56,
   "id": "a1a7f49c",
   "metadata": {
    "scrolled": true
   },
   "outputs": [
    {
     "data": {
      "text/plain": [
       "{'params': {'Dense_0': {'bias': <tfp.bijectors.Identity 'identity' batch_shape=[] forward_min_event_ndims=0 inverse_min_event_ndims=0 dtype_x=? dtype_y=?>,\n",
       "   'kernel': <tfp.bijectors.Identity 'identity' batch_shape=[] forward_min_event_ndims=0 inverse_min_event_ndims=0 dtype_x=? dtype_y=?>}}}"
      ]
     },
     "execution_count": 56,
     "metadata": {},
     "output_type": "execute_result"
    }
   ],
   "source": [
    "bijector = jax.tree_map(lambda param: tfb.Identity(), params)\n",
    "bijector"
   ]
  },
  {
   "cell_type": "markdown",
   "id": "c969817c",
   "metadata": {},
   "source": [
    "## Define log likelihood function"
   ]
  },
  {
   "cell_type": "code",
   "execution_count": 57,
   "id": "1fd20f0e",
   "metadata": {},
   "outputs": [],
   "source": [
    "def get_log_likelihood(params, aux, data, **kwargs):\n",
    "    frozen_params_linear = freeze(params)\n",
    "    frozen_params_mlp = freeze(kwargs[\"mlp_params\"])\n",
    "    mlp_out = mlp.apply(frozen_params_mlp, aux['X'])\n",
    "    y_pred = linear.apply(frozen_params_linear, mlp_out)\n",
    "    scale = jnp.exp(kwargs[\"log_noise_scale\"])\n",
    "    return tfd.Normal(loc=y_pred, scale=scale).log_prob(data).sum()"
   ]
  },
  {
   "cell_type": "markdown",
   "id": "70ef0c4b",
   "metadata": {},
   "source": [
    "## Initialize the ADVI model"
   ]
  },
  {
   "cell_type": "code",
   "execution_count": 58,
   "id": "c3f3062a",
   "metadata": {},
   "outputs": [],
   "source": [
    "model = ADVI(prior, bijector, get_log_likelihood, vi_type=\"mean_field\")"
   ]
  },
  {
   "cell_type": "markdown",
   "id": "a38e3ac6",
   "metadata": {},
   "source": [
    "## Initialize the parameters"
   ]
  },
  {
   "cell_type": "code",
   "execution_count": 59,
   "id": "ceb8984a",
   "metadata": {},
   "outputs": [],
   "source": [
    "params = model.init(jax.random.PRNGKey(init + 2))\n",
    "mean = params[\"posterior\"].mean()\n",
    "params[\"posterior\"] = tfd.MultivariateNormalDiag(\n",
    "    loc=mean,\n",
    "    scale_diag=jax.random.normal(jax.random.PRNGKey(init-1), shape=(len(mean), ))-10,\n",
    ")\n",
    "params[\"log_noise_scale\"] = 0.001\n",
    "params[\"mlp_params\"] = unfreeze(mlp.init(jax.random.PRNGKey(init-2), X))"
   ]
  },
  {
   "cell_type": "markdown",
   "id": "851a7d90",
   "metadata": {},
   "source": [
    "## Fit the model"
   ]
  },
  {
   "cell_type": "code",
   "execution_count": 60,
   "id": "a2518956",
   "metadata": {},
   "outputs": [],
   "source": [
    "tx = optax.adam(learning_rate=0.01)\n",
    "seed1 = jax.random.PRNGKey(init + 4)\n",
    "seed2 = jax.random.PRNGKey(init + 5)\n",
    "\n",
    "loss_fn = partial(model.loss_fn, aux={\"X\": X}, batch=y, data_size=len(y), n_samples=1)\n",
    "results = train(\n",
    "    loss_fn,\n",
    "    params,\n",
    "    n_epochs=2000,\n",
    "    optimizer=tx,\n",
    "    seed=seed2,\n",
    "    return_args={\"losses\"},\n",
    ")"
   ]
  },
  {
   "cell_type": "code",
   "execution_count": 61,
   "id": "963787d9",
   "metadata": {},
   "outputs": [
    {
     "data": {
      "text/plain": [
       "{'params': {'log_noise_scale': DeviceArray(-1.2728578, dtype=float32),\n",
       "  'mlp_params': {'params': {'Dense_0': {'bias': DeviceArray([ 0.71887964, -0.05841291, -0.0460743 ,  0.2688279 ,\n",
       "                  -1.45815   , -0.05105071,  0.45280665, -0.14052927,\n",
       "                  -0.968567  ,  0.8946617 ,  0.886416  ,  0.6613655 ,\n",
       "                   0.565459  , -0.07983854,  0.80818826, -2.2708166 ],            dtype=float32),\n",
       "     'kernel': DeviceArray([[-7.8269517e-01, -2.0656774e-02,  1.9690095e-02,\n",
       "                   -2.8955889e-01,  1.2616765e+00,  3.4871075e-04,\n",
       "                    3.8676673e-01,  1.8362645e-02,  1.9769448e+00,\n",
       "                   -9.7346210e-01, -9.6384037e-01, -7.1929747e-01,\n",
       "                   -6.1426371e-01, -7.6944050e-03, -8.7942225e-01,\n",
       "                   -3.0462921e+00]], dtype=float32)}}},\n",
       "  'posterior': <tfp.distributions.MultivariateNormalDiag 'MultivariateNormalDiag' batch_shape=[] event_shape=[17] dtype=float32>},\n",
       " 'losses': DeviceArray([3.1037123 , 3.0646985 , 2.9328003 , ..., 0.4550079 ,\n",
       "              0.42413765, 0.5389021 ], dtype=float32)}"
      ]
     },
     "execution_count": 61,
     "metadata": {},
     "output_type": "execute_result"
    }
   ],
   "source": [
    "results"
   ]
  },
  {
   "cell_type": "markdown",
   "id": "d3526f36",
   "metadata": {},
   "source": [
    "Check the loss"
   ]
  },
  {
   "cell_type": "code",
   "execution_count": 62,
   "id": "c2c9bab3",
   "metadata": {
    "scrolled": true
   },
   "outputs": [
    {
     "data": {
      "image/png": "[encoded data removed]",
      "text/plain": [
       "<Figure size 432x288 with 1 Axes>"
      ]
     },
     "metadata": {
      "needs_background": "light"
     },
     "output_type": "display_data"
    }
   ],
   "source": [
    "plt.plot(results['losses']);"
   ]
  },
  {
   "cell_type": "markdown",
   "id": "37f489c3",
   "metadata": {},
   "source": [
    "## Get the posterior distribution"
   ]
  },
  {
   "cell_type": "code",
   "execution_count": 63,
   "id": "34202144",
   "metadata": {},
   "outputs": [],
   "source": [
    "posterior = model.apply(results[\"params\"])"
   ]
  },
  {
   "cell_type": "markdown",
   "id": "c83dfc04",
   "metadata": {},
   "source": [
    "## Draw samples from the posterior"
   ]
  },
  {
   "cell_type": "markdown",
   "id": "dcc9262b",
   "metadata": {},
   "source": [
    "We now generate the samples from the predictive distribution."
   ]
  },
  {
   "cell_type": "code",
   "execution_count": 64,
   "id": "99ae81cc",
   "metadata": {},
   "outputs": [
    {
     "data": {
      "text/plain": [
       "(1000, 200)"
      ]
     },
     "execution_count": 64,
     "metadata": {},
     "output_type": "execute_result"
    }
   ],
   "source": [
    "seed = jax.random.PRNGKey(init+6)\n",
    "weights = posterior.sample(seed, sample_shape=(1000,))\n",
    "def draw_sample(weights):\n",
    "    mlp_out = mlp.apply(freeze(results[\"params\"][\"mlp_params\"]), X_test)\n",
    "    y_pred = linear.apply(freeze(weights), mlp_out)\n",
    "    return y_pred\n",
    "y_samples = jax.vmap(draw_sample)(weights)\n",
    "y_samples.shape"
   ]
  },
  {
   "cell_type": "markdown",
   "id": "1f63c5c0",
   "metadata": {},
   "source": [
    "## Visualizing the fit"
   ]
  },
  {
   "cell_type": "code",
   "execution_count": 65,
   "id": "b034a6c7",
   "metadata": {
    "scrolled": true
   },
   "outputs": [
    {
     "data": {
      "image/png": "[encoded data removed]",
      "text/plain": [
       "<Figure size 432x288 with 1 Axes>"
      ]
     },
     "metadata": {
      "needs_background": "light"
     },
     "output_type": "display_data"
    }
   ],
   "source": [
    "y_mean = y_samples.mean(axis=0)\n",
    "y_std = y_samples.std(axis=0)\n",
    "\n",
    "noise_scale = jnp.exp(results[\"params\"][\"log_noise_scale\"])\n",
    "plt.scatter(X, y);\n",
    "plt.plot(X_test, y_mean);\n",
    "plt.fill_between(X_test.ravel(), y_mean-2*y_std-noise_scale, y_mean+2*y_std+noise_scale, alpha=0.4);\n",
    "plt.ylim(-2, 2);"
   ]
  }
 ],
 "metadata": {
  "kernelspec": {
   "display_name": "Python [conda env:ajax]",
   "language": "python",
   "name": "conda-env-ajax-py"
  },
  "language_info": {
   "codemirror_mode": {
    "name": "ipython",
    "version": 3
   },
   "file_extension": ".py",
   "mimetype": "text/x-python",
   "name": "python",
   "nbconvert_exporter": "python",
   "pygments_lexer": "ipython3",
   "version": "3.9.12"
  }
 },
 "nbformat": 4,
 "nbformat_minor": 5
}
