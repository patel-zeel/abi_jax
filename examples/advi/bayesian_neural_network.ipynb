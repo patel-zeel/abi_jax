{
 "cells": [
  {
   "cell_type": "code",
   "execution_count": 1,
   "id": "32259b5f",
   "metadata": {},
   "outputs": [],
   "source": [
    "import matplotlib.pyplot as plt\n",
    "import seaborn as sns\n",
    "\n",
    "import tensorflow_probability.substrates.jax as tfp\n",
    "\n",
    "tfd = tfp.distributions\n",
    "tfb = tfp.bijectors\n",
    "\n",
    "import jax\n",
    "from jax.flatten_util import ravel_pytree\n",
    "import jax.numpy as jnp\n",
    "import optax\n",
    "\n",
    "import flax.linen as nn\n",
    "from flax.core.frozen_dict import freeze, unfreeze\n",
    "\n",
    "from ajax.advi import ADVI\n",
    "from ajax.base import transform_dist_params\n",
    "from ajax.utils import train, initialize_params\n",
    "\n",
    "from functools import partial\n",
    "import regdata as rd\n",
    "\n",
    "init = 123"
   ]
  },
  {
   "cell_type": "markdown",
   "id": "242e1a46",
   "metadata": {},
   "source": [
    "## Prepare dataset"
   ]
  },
  {
   "cell_type": "code",
   "execution_count": 2,
   "id": "3e215ec6",
   "metadata": {},
   "outputs": [],
   "source": [
    "def load_multinoise(seed):\n",
    "    N = 100\n",
    "    key, subkey = jax.random.split(seed)\n",
    "    X = jax.random.uniform(key, shape=(100, 1), minval=0.0, maxval=0.5).reshape(-1, 1)\n",
    "    X_test = jax.random.uniform(key, shape=(200, 1), minval=-0.5, maxval=1.0).reshape(-1, 1)\n",
    "    def f(seed, x):\n",
    "        epsilons = jax.random.normal(seed, shape=(3,)) * 0.02\n",
    "        return x + 0.3 * jnp.sin(2 * jnp.pi * (x + epsilons[0])) + 0.3 * jnp.sin(4 * jnp.pi * (x + epsilons[1])) + epsilons[2]\n",
    "    target_vmap = jax.vmap(f)\n",
    "    keys = jax.random.split(subkey, X.shape[0])\n",
    "    y = target_vmap(keys, X)# + jax.random.normal(subkey, shape=(X.shape[0], 1))*0.02\n",
    "    idx = jnp.argsort(X.ravel())\n",
    "    return X[idx], y[idx].ravel(), X_test.sort(axis=0)"
   ]
  },
  {
   "cell_type": "code",
   "execution_count": 3,
   "id": "0d7a760c",
   "metadata": {},
   "outputs": [
    {
     "name": "stderr",
     "output_type": "stream",
     "text": [
      "WARNING:absl:No GPU/TPU found, falling back to CPU. (Set TF_CPP_MIN_LOG_LEVEL=0 and rerun for more info.)\n"
     ]
    },
    {
     "data": {
      "text/plain": [
       "((100, 1), (100,))"
      ]
     },
     "execution_count": 3,
     "metadata": {},
     "output_type": "execute_result"
    },
    {
     "data": {
      "image/png": "[encoded data removed]",
      "text/plain": [
       "<Figure size 432x288 with 1 Axes>"
      ]
     },
     "metadata": {
      "needs_background": "light"
     },
     "output_type": "display_data"
    }
   ],
   "source": [
    "seed = jax.random.PRNGKey(init)\n",
    "X, y, X_test = load_multinoise(seed)\n",
    "# X, y, X_test = rd.SineNoisy().get_data()\n",
    "\n",
    "plt.scatter(X, y);\n",
    "X.shape, y.shape"
   ]
  },
  {
   "cell_type": "markdown",
   "id": "69b9b3c5",
   "metadata": {},
   "source": [
    "## Define and initialize NN"
   ]
  },
  {
   "cell_type": "code",
   "execution_count": 4,
   "id": "f0243acd",
   "metadata": {},
   "outputs": [],
   "source": [
    "class MLP(nn.Module):\n",
    "    layers: list\n",
    "    \n",
    "    @nn.compact\n",
    "    def __call__(self, x):\n",
    "        for num_features in self.layers[:-1]:\n",
    "            x = nn.relu(nn.Dense(num_features)(x))\n",
    "        x = nn.Dense(self.layers[-1])(x)\n",
    "        return x.ravel()\n",
    "\n",
    "mlp = MLP([16, 1])"
   ]
  },
  {
   "cell_type": "markdown",
   "id": "8a000c5d",
   "metadata": {},
   "source": [
    "## Initialize NN parameters"
   ]
  },
  {
   "cell_type": "code",
   "execution_count": 5,
   "id": "f7f34d06",
   "metadata": {
    "scrolled": false
   },
   "outputs": [],
   "source": [
    "seed = jax.random.PRNGKey(init+1)\n",
    "frozen_params = mlp.init(seed, X)"
   ]
  },
  {
   "cell_type": "markdown",
   "id": "5a358106",
   "metadata": {},
   "source": [
    "We need to unfreeze the parameters to use outside of `flax`."
   ]
  },
  {
   "cell_type": "code",
   "execution_count": 6,
   "id": "497698f6",
   "metadata": {},
   "outputs": [],
   "source": [
    "init_params = unfreeze(frozen_params)"
   ]
  },
  {
   "cell_type": "markdown",
   "id": "c441ed1a",
   "metadata": {},
   "source": [
    "## Define prior for all NN parameters"
   ]
  },
  {
   "cell_type": "markdown",
   "id": "10195a87",
   "metadata": {},
   "source": [
    "Note that `tfd.Independent` will convert all batch dimensions to event dimensions so that each prior distribution can return a scalar log prob."
   ]
  },
  {
   "cell_type": "code",
   "execution_count": 7,
   "id": "d4d20bbb",
   "metadata": {},
   "outputs": [
    {
     "data": {
      "text/plain": [
       "{'mlp': {'params': {'Dense_0': {'bias': <tfp.distributions.Independent 'IndependentNormal' batch_shape=[] event_shape=[16] dtype=float32>,\n",
       "    'kernel': <tfp.distributions.Independent 'IndependentNormal' batch_shape=[] event_shape=[1, 16] dtype=float32>},\n",
       "   'Dense_1': {'bias': <tfp.distributions.Independent 'IndependentNormal' batch_shape=[] event_shape=[1] dtype=float32>,\n",
       "    'kernel': <tfp.distributions.Independent 'IndependentNormal' batch_shape=[] event_shape=[16, 1] dtype=float32>}}},\n",
       " 'noise_scale': <tfp.distributions.Gamma 'Gamma' batch_shape=[] event_shape=[] dtype=float32>}"
      ]
     },
     "execution_count": 7,
     "metadata": {},
     "output_type": "execute_result"
    }
   ],
   "source": [
    "mlp_prior = jax.tree_map(\n",
    "    lambda param: tfd.Independent(\n",
    "#         tfd.Normal(loc=jnp.zeros(param.shape), scale=jnp.sqrt(2*jnp.ones(param.shape)/sum(param.shape))),\n",
    "        tfd.Normal(loc=jnp.zeros(param.shape), scale=jnp.ones(param.shape)),\n",
    "        reinterpreted_batch_ndims=len(param.shape),\n",
    "    ),\n",
    "    init_params,\n",
    ")\n",
    "prior = {\"mlp\": mlp_prior, \"noise_scale\": tfd.Gamma(1.0, 2.0)}\n",
    "prior"
   ]
  },
  {
   "cell_type": "markdown",
   "id": "c99dc462",
   "metadata": {},
   "source": [
    "No change of variable is needed for this model, thus we set `tfd.Identity()` bijector."
   ]
  },
  {
   "cell_type": "code",
   "execution_count": 8,
   "id": "a1a7f49c",
   "metadata": {
    "scrolled": false
   },
   "outputs": [
    {
     "data": {
      "text/plain": [
       "{'mlp': {'params': {'Dense_0': {'bias': <tfp.bijectors.Identity 'identity' batch_shape=[] forward_min_event_ndims=0 inverse_min_event_ndims=0 dtype_x=? dtype_y=?>,\n",
       "    'kernel': <tfp.bijectors.Identity 'identity' batch_shape=[] forward_min_event_ndims=0 inverse_min_event_ndims=0 dtype_x=? dtype_y=?>},\n",
       "   'Dense_1': {'bias': <tfp.bijectors.Identity 'identity' batch_shape=[] forward_min_event_ndims=0 inverse_min_event_ndims=0 dtype_x=? dtype_y=?>,\n",
       "    'kernel': <tfp.bijectors.Identity 'identity' batch_shape=[] forward_min_event_ndims=0 inverse_min_event_ndims=0 dtype_x=? dtype_y=?>}}},\n",
       " 'noise_scale': <tfp.bijectors.Exp 'exp' batch_shape=[] forward_min_event_ndims=0 inverse_min_event_ndims=0 dtype_x=? dtype_y=?>}"
      ]
     },
     "execution_count": 8,
     "metadata": {},
     "output_type": "execute_result"
    }
   ],
   "source": [
    "mlp_bijector = jax.tree_map(lambda param: tfb.Identity(), init_params)\n",
    "bijector = {\"mlp\": mlp_bijector, \"noise_scale\": tfb.Exp()}\n",
    "bijector"
   ]
  },
  {
   "cell_type": "markdown",
   "id": "c969817c",
   "metadata": {},
   "source": [
    "## Define log likelihood function"
   ]
  },
  {
   "cell_type": "code",
   "execution_count": 9,
   "id": "1fd20f0e",
   "metadata": {},
   "outputs": [],
   "source": [
    "def log_likelihood_fn(latent_sample, data, aux, **kwargs):\n",
    "    scale = latent_sample[\"noise_scale\"]\n",
    "    y_pred = mlp.apply(latent_sample[\"mlp\"], aux['X'])\n",
    "    return tfd.Normal(loc=y_pred, scale=scale).log_prob(data).sum()"
   ]
  },
  {
   "cell_type": "markdown",
   "id": "70ef0c4b",
   "metadata": {},
   "source": [
    "## Initialize the ADVI model"
   ]
  },
  {
   "cell_type": "code",
   "execution_count": 10,
   "id": "c3f3062a",
   "metadata": {},
   "outputs": [],
   "source": [
    "model = ADVI(prior, bijector, log_likelihood_fn, vi_type=\"mean_field\")"
   ]
  },
  {
   "cell_type": "markdown",
   "id": "a38e3ac6",
   "metadata": {},
   "source": [
    "## Initialize the parameters"
   ]
  },
  {
   "cell_type": "code",
   "execution_count": 11,
   "id": "ceb8984a",
   "metadata": {},
   "outputs": [],
   "source": [
    "params = model.init(jax.random.PRNGKey(init + 2))\n",
    "mean = params[\"posterior\"].mean()\n",
    "params[\"posterior\"] = tfd.MultivariateNormalDiag(\n",
    "    loc=mean,\n",
    "    scale_diag=jax.random.normal(jax.random.PRNGKey(init-1), shape=(len(mean), ))-5,\n",
    ")"
   ]
  },
  {
   "cell_type": "markdown",
   "id": "851a7d90",
   "metadata": {},
   "source": [
    "## Fit the model"
   ]
  },
  {
   "cell_type": "code",
   "execution_count": 12,
   "id": "a2518956",
   "metadata": {},
   "outputs": [
    {
     "name": "stdout",
     "output_type": "stream",
     "text": [
      "CPU times: user 8.06 s, sys: 1.16 s, total: 9.22 s\n",
      "Wall time: 4.67 s\n"
     ]
    }
   ],
   "source": [
    "%%time\n",
    "tx = optax.adam(learning_rate=0.01)\n",
    "seed1 = jax.random.PRNGKey(init + 4)\n",
    "seed2 = jax.random.PRNGKey(init + 5)\n",
    "\n",
    "loss_fn = partial(model.loss_fn, aux={\"X\": X}, batch=y, data_size=len(y), n_samples=100)\n",
    "results = train(\n",
    "    loss_fn,\n",
    "    params,\n",
    "    n_epochs=1000,\n",
    "    optimizer=tx,\n",
    "    seed=seed2,\n",
    "    return_args={\"losses\"},\n",
    ")"
   ]
  },
  {
   "cell_type": "markdown",
   "id": "d3526f36",
   "metadata": {},
   "source": [
    "Check the loss"
   ]
  },
  {
   "cell_type": "code",
   "execution_count": 13,
   "id": "c2c9bab3",
   "metadata": {
    "scrolled": true
   },
   "outputs": [
    {
     "data": {
      "image/png": "[encoded data removed]",
      "text/plain": [
       "<Figure size 432x288 with 1 Axes>"
      ]
     },
     "metadata": {
      "needs_background": "light"
     },
     "output_type": "display_data"
    }
   ],
   "source": [
    "plt.plot(results['losses']);"
   ]
  },
  {
   "cell_type": "markdown",
   "id": "37f489c3",
   "metadata": {},
   "source": [
    "## Get the posterior distribution"
   ]
  },
  {
   "cell_type": "code",
   "execution_count": 14,
   "id": "34202144",
   "metadata": {},
   "outputs": [],
   "source": [
    "posterior = model.apply(results[\"params\"])"
   ]
  },
  {
   "cell_type": "markdown",
   "id": "c83dfc04",
   "metadata": {},
   "source": [
    "## Draw samples from the posterior"
   ]
  },
  {
   "cell_type": "markdown",
   "id": "dcc9262b",
   "metadata": {},
   "source": [
    "We now generate the samples from the predictive distribution."
   ]
  },
  {
   "cell_type": "code",
   "execution_count": 15,
   "id": "99ae81cc",
   "metadata": {},
   "outputs": [
    {
     "data": {
      "text/plain": [
       "(1000, 200)"
      ]
     },
     "execution_count": 15,
     "metadata": {},
     "output_type": "execute_result"
    }
   ],
   "source": [
    "seed = jax.random.PRNGKey(init+6)\n",
    "samples = posterior.sample(seed, sample_shape=(1000,))\n",
    "def draw_sample(sample):\n",
    "    y_pred = mlp.apply(sample['mlp'], X_test)\n",
    "    return y_pred\n",
    "y_samples = jax.vmap(draw_sample)(samples)\n",
    "y_samples.shape"
   ]
  },
  {
   "cell_type": "markdown",
   "id": "1f63c5c0",
   "metadata": {},
   "source": [
    "## Visualizing the fit"
   ]
  },
  {
   "cell_type": "code",
   "execution_count": 16,
   "id": "b034a6c7",
   "metadata": {
    "scrolled": false
   },
   "outputs": [
    {
     "name": "stdout",
     "output_type": "stream",
     "text": [
      "0.101322226\n"
     ]
    },
    {
     "data": {
      "image/png": "[encoded data removed]",
      "text/plain": [
       "<Figure size 432x288 with 1 Axes>"
      ]
     },
     "metadata": {
      "needs_background": "light"
     },
     "output_type": "display_data"
    }
   ],
   "source": [
    "y_mean = y_samples.mean(axis=0)\n",
    "y_std = y_samples.std(axis=0)\n",
    "\n",
    "noise_scale = samples['noise_scale'].mean()\n",
    "print(noise_scale)\n",
    "plt.scatter(X, y);\n",
    "plt.plot(X_test, y_mean);\n",
    "plt.fill_between(X_test.ravel(), y_mean-2*y_std-noise_scale, y_mean+2*y_std+noise_scale, alpha=0.4);\n",
    "plt.ylim(-1, 1.5);"
   ]
  }
 ],
 "metadata": {
  "kernelspec": {
   "display_name": "Python [conda env:ajax]",
   "language": "python",
   "name": "conda-env-ajax-py"
  },
  "language_info": {
   "codemirror_mode": {
    "name": "ipython",
    "version": 3
   },
   "file_extension": ".py",
   "mimetype": "text/x-python",
   "name": "python",
   "nbconvert_exporter": "python",
   "pygments_lexer": "ipython3",
   "version": "3.9.12"
  }
 },
 "nbformat": 4,
 "nbformat_minor": 5
}
